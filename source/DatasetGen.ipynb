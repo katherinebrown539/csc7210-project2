{
 "cells": [
  {
   "cell_type": "code",
   "execution_count": 9,
   "metadata": {},
   "outputs": [],
   "source": [
    "import pandas as pd\n",
    "import numpy as np\n",
    "from collections import Counter\n",
    "from sklearn.model_selection import train_test_split\n"
   ]
  },
  {
   "cell_type": "code",
   "execution_count": 21,
   "metadata": {},
   "outputs": [
    {
     "name": "stdout",
     "output_type": "stream",
     "text": [
      "[0 4]\n",
      "[25810   708]\n",
      "0\n"
     ]
    }
   ],
   "source": [
    "datatype = \"diabetes\"\n",
    "if datatype == \"diabetes\":\n",
    "    df = pd.read_csv(\"../data/trainLabels_ad.csv\")\n",
    "    y = \"level\"\n",
    "elif datatype == \"dogcat\":\n",
    "    df = pd.read_csv(\"../data/dogcat_ad.csv\")\n",
    "    y = \"label\"\n",
    "    \n",
    "_, counts = np.unique(df[y], return_counts=True)\n",
    "print(_)\n",
    "print(counts)\n",
    "majority_class = np.argmax(counts)\n",
    "print(majority_class)"
   ]
  },
  {
   "cell_type": "code",
   "execution_count": 22,
   "metadata": {},
   "outputs": [],
   "source": [
    "train, not_train =  train_test_split(df, test_size=0.1)\n",
    "train_maj = train[train[y] == majority_class]\n",
    "train_min = train[train[y] != majority_class]\n",
    "train = train_maj\n",
    "not_train = pd.concat([not_train, train_min])\n",
    "val, test = train_test_split(not_train, test_size  =0.5)\n",
    "\n",
    "train.to_csv(\"../data/{0}_ad_train.csv\".format(datatype))\n",
    "val.to_csv(\"../data/{0}_ad_valid.csv\".format(datatype))\n",
    "test.to_csv(\"../data/{0}_ad_test.csv\".format(datatype))"
   ]
  },
  {
   "cell_type": "code",
   "execution_count": null,
   "metadata": {},
   "outputs": [],
   "source": []
  }
 ],
 "metadata": {
  "kernelspec": {
   "display_name": "Python 3",
   "language": "python",
   "name": "python3"
  },
  "language_info": {
   "codemirror_mode": {
    "name": "ipython",
    "version": 3
   },
   "file_extension": ".py",
   "mimetype": "text/x-python",
   "name": "python",
   "nbconvert_exporter": "python",
   "pygments_lexer": "ipython3",
   "version": "3.7.9"
  }
 },
 "nbformat": 4,
 "nbformat_minor": 4
}
