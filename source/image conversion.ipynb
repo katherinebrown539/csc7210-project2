{
 "cells": [
  {
   "cell_type": "code",
   "execution_count": 12,
   "metadata": {},
   "outputs": [],
   "source": [
    "from PIL import Image\n",
    "import pandas as pd\n",
    "from tqdm import tqdm"
   ]
  },
  {
   "cell_type": "code",
   "execution_count": 13,
   "metadata": {},
   "outputs": [
    {
     "name": "stdout",
     "output_type": "stream",
     "text": [
      "mkdir: cannot create directory ‘../data/diabetes_resized’: File exists\r\n"
     ]
    }
   ],
   "source": [
    "filename = \"../data/trainLabels.csv\"\n",
    "root_dir = \"../data/diabetes_original\"\n",
    "new_dir = \"../data/diabetes_resized\"\n",
    "\n",
    "!mkdir ../data/diabetes_resized"
   ]
  },
  {
   "cell_type": "code",
   "execution_count": 14,
   "metadata": {},
   "outputs": [],
   "source": [
    "df = pd.read_csv(filename)"
   ]
  },
  {
   "cell_type": "code",
   "execution_count": 19,
   "metadata": {},
   "outputs": [
    {
     "name": "stderr",
     "output_type": "stream",
     "text": [
      "100%|██████████| 35126/35126 [2:15:23<00:00,  4.32it/s]  \n"
     ]
    }
   ],
   "source": [
    "with tqdm(total=df.shape[0]) as pbar:\n",
    "    for index, row in df.iterrows():\n",
    "        fn = \"{0}/{1}\".format(root_dir, row[\"image\"])\n",
    "        im = Image.open(fn)\n",
    "        im = im.convert('RGB')\n",
    "        im = im.resize((224,224))\n",
    "        im.save(\"{0}/{1}\".format(new_dir, row[\"image\"]))\n",
    "        pbar.update(1)"
   ]
  },
  {
   "cell_type": "code",
   "execution_count": null,
   "metadata": {},
   "outputs": [],
   "source": []
  }
 ],
 "metadata": {
  "kernelspec": {
   "display_name": "Python 3",
   "language": "python",
   "name": "python3"
  },
  "language_info": {
   "codemirror_mode": {
    "name": "ipython",
    "version": 3
   },
   "file_extension": ".py",
   "mimetype": "text/x-python",
   "name": "python",
   "nbconvert_exporter": "python",
   "pygments_lexer": "ipython3",
   "version": "3.7.9"
  }
 },
 "nbformat": 4,
 "nbformat_minor": 4
}
