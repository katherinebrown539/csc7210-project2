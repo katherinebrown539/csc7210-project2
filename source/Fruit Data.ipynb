{
 "cells": [
  {
   "cell_type": "code",
   "execution_count": 5,
   "metadata": {},
   "outputs": [],
   "source": [
    "import pandas as pd\n",
    "import os, sys\n",
    "from sklearn.model_selection import train_test_split"
   ]
  },
  {
   "cell_type": "code",
   "execution_count": 6,
   "metadata": {},
   "outputs": [],
   "source": [
    "normal_classes = [\"Apple Braeburn\", \"Apple Crimson Snow\", \"Apple Golden 1\", \"Apple Golden 2\", \"Apple Golden 3\", \"Apple Granny Smith\", \"Apple Pink Lady\", \"Apple Red 1\", \"Apple Red 2\", \"Apple Red 3\", \"Apple Red Delicious\", \"Apple Red Yellow 1\", \"Apple Red Yellow 2\", ]\n",
    "anomalous = [\"Banana\"]\n",
    "train_dir=\"../data/Fruit-Images-Dataset-master/Training/\"\n",
    "test_dir=\"../data/Fruit-Images-Dataset-master/Test/\""
   ]
  },
  {
   "cell_type": "code",
   "execution_count": 7,
   "metadata": {},
   "outputs": [],
   "source": [
    "train = []\n",
    "\n",
    "for class_ in normal_classes:\n",
    "    for im in os.listdir(train_dir+class_):\n",
    "        if im.endswith(\"jpg\"):\n",
    "            train.append([\"Training/{0}/{1}\".format(class_,im), 0, \"apple\"])\n",
    "            \n",
    "train = pd.DataFrame(train, columns=[\"filename\", \"label\", \"text_label\"])\n",
    "train.to_csv(\"../data/fruit_ad_train.csv\")"
   ]
  },
  {
   "cell_type": "code",
   "execution_count": 8,
   "metadata": {},
   "outputs": [],
   "source": [
    "test = []\n",
    "\n",
    "for class_ in normal_classes:\n",
    "    for im in os.listdir(test_dir+class_):\n",
    "        if im.endswith(\"jpg\"):\n",
    "            test.append([\"Test/{0}/{1}\".format(class_,im), 0, \"apple\"])\n",
    "for class_ in anomalous:\n",
    "    for im in os.listdir(test_dir+class_):\n",
    "        if im.endswith(\"jpg\"):\n",
    "            test.append([\"Test/{0}/{1}\".format(class_,im), 1, \"lemon\"])\n",
    "            \n",
    "test = pd.DataFrame(test, columns=[\"filename\", \"label\", \"text_label\"])\n",
    "test, val = train_test_split(test, test_size=0.5, shuffle=True)\n",
    "test.to_csv(\"../data/fruit_ad_test.csv\")\n",
    "val.to_csv(\"../data/fruit_ad_valid.csv\")"
   ]
  },
  {
   "cell_type": "code",
   "execution_count": null,
   "metadata": {},
   "outputs": [],
   "source": []
  }
 ],
 "metadata": {
  "kernelspec": {
   "display_name": "Python 3",
   "language": "python",
   "name": "python3"
  },
  "language_info": {
   "codemirror_mode": {
    "name": "ipython",
    "version": 3
   },
   "file_extension": ".py",
   "mimetype": "text/x-python",
   "name": "python",
   "nbconvert_exporter": "python",
   "pygments_lexer": "ipython3",
   "version": "3.7.9"
  }
 },
 "nbformat": 4,
 "nbformat_minor": 4
}
